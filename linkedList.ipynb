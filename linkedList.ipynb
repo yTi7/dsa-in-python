{
 "cells": [
  {
   "cell_type": "markdown",
   "metadata": {},
   "source": [
    "# Linked Lists in Python"
   ]
  },
  {
   "cell_type": "code",
   "execution_count": 6,
   "metadata": {},
   "outputs": [
    {
     "name": "stdout",
     "output_type": "stream",
     "text": [
      "Creating a new Linked list with \"Python\".\n",
      "Inserted \"JavaScript\" at the end.\n",
      "Inserted \"Java\" at the end.\n",
      "Inserted \"C++\" at the end.\n",
      "Inserted \"Haskell\" at the end.\n",
      "Inserted \"Rust\" at the end.\n",
      "Python → JavaScript → Java → C++ → Haskell → Rust → \n",
      "Python → JavaScript → testNode → Java → C++ → Haskell → Rust → \n"
     ]
    }
   ],
   "source": [
    "class Node:\n",
    "    def __init__(self, data=None, next=None):\n",
    "        self.data = data\n",
    "        self.next = next\n",
    "\n",
    "\n",
    "class LinkedList:\n",
    "    def __init__(self):\n",
    "        self.head = None\n",
    "\n",
    "    def __repr__(self):\n",
    "        if self.head is None:\n",
    "            return \"Linked list is empty.\"\n",
    "        itr = self.head\n",
    "        llstr = ''\n",
    "        while itr:\n",
    "            llstr += str(itr.data) + ' → '\n",
    "            itr = itr.next\n",
    "        return llstr\n",
    "\n",
    "    def append(self, data):\n",
    "        if self.head is None:\n",
    "            self.head = Node(data, None)\n",
    "            print(f\"Creating a new Linked list with \\\"{data}\\\".\")\n",
    "            return\n",
    "        itr = self.head\n",
    "        while itr.next:\n",
    "            itr = itr.next\n",
    "        itr.next = Node(data, None)\n",
    "        print(f'Inserted \\\"{data}\\\" at the end.')\n",
    "\n",
    "    def insert_values(self, data_list: list):\n",
    "        self.head = None\n",
    "        for data in data_list:\n",
    "            self.append(data)\n",
    "\n",
    "    def get_length(self):\n",
    "        counter = 0\n",
    "        itr = self.head\n",
    "        while itr:\n",
    "            counter += 1\n",
    "            itr = itr.next\n",
    "        return counter\n",
    "\n",
    "    def remove(self, index):\n",
    "        if index < 0 or index >= self.get_length():\n",
    "            raise Exception(\"Invalid index\")\n",
    "        if index == 0:\n",
    "            self.head = self.head.next\n",
    "        count = 0\n",
    "        itr = self.head\n",
    "        while itr:\n",
    "            if count == index - 1:\n",
    "                itr.next = itr.next.next\n",
    "                break\n",
    "            itr = itr.next\n",
    "            count += 1\n",
    "\n",
    "    def insert(self, index: int, new_element):\n",
    "        if index < 0 or index > self.get_length():\n",
    "            raise Exception(\"Invalid index\")\n",
    "        elif index == 0:\n",
    "            new_element = Node(new_element, self.head)\n",
    "            self.head = new_element\n",
    "        else:\n",
    "            count = 0\n",
    "            itr = self.head\n",
    "            while itr:\n",
    "                if count == index-1:\n",
    "                    new_element = Node(new_element, itr.next)\n",
    "                    itr.next = new_element\n",
    "                    break\n",
    "                itr = itr.next\n",
    "                count += 1\n",
    "\n",
    "\n",
    "if __name__ == \"__main__\":\n",
    "    ll = LinkedList()\n",
    "    ll.insert_values(\n",
    "        [\"Python\", \"JavaScript\", \"Java\", \"C++\", \"Haskell\", \"Rust\"])\n",
    "    print(ll)\n",
    "    ll.insert(2, \"testNode\")\n",
    "    print(ll)\n"
   ]
  }
 ],
 "metadata": {
  "kernelspec": {
   "display_name": "Python 3",
   "language": "python",
   "name": "python3"
  },
  "language_info": {
   "codemirror_mode": {
    "name": "ipython",
    "version": 3
   },
   "file_extension": ".py",
   "mimetype": "text/x-python",
   "name": "python",
   "nbconvert_exporter": "python",
   "pygments_lexer": "ipython3",
   "version": "3.10.9 (main, Dec 19 2022, 17:35:49) [GCC 12.2.0]"
  },
  "orig_nbformat": 4,
  "vscode": {
   "interpreter": {
    "hash": "e7370f93d1d0cde622a1f8e1c04877d8463912d04d973331ad4851f04de6915a"
   }
  }
 },
 "nbformat": 4,
 "nbformat_minor": 2
}
