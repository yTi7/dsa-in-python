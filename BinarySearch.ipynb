{
 "cells": [
  {
   "attachments": {},
   "cell_type": "markdown",
   "metadata": {},
   "source": [
    "# Binary Search"
   ]
  },
  {
   "cell_type": "code",
   "execution_count": 23,
   "metadata": {},
   "outputs": [],
   "source": [
    "def search(data: list, query: int):\n",
    "    upper = len(data)-1\n",
    "    lower = 0\n",
    "    mid = upper//2\n",
    "    if query not in data:\n",
    "        raise Exception(\"Query doesen't exist in the Data\")\n",
    "    elif query == data[upper]:\n",
    "        print(f'{query} is at {upper}')\n",
    "        return\n",
    "    elif query == data[lower]:\n",
    "        print(f'{query} is at {lower}')\n",
    "        return\n",
    "    else:\n",
    "        while True:\n",
    "            if query == data[mid]:\n",
    "                print(f'{query} is at {mid}')\n",
    "                break\n",
    "            elif query < data[mid]:\n",
    "                upper = mid\n",
    "                mid = (lower+upper)//2\n",
    "                if data[mid] == query:\n",
    "                    print(f'{query} is at {mid}')\n",
    "                    break\n",
    "            else:\n",
    "                lower = mid\n",
    "                mid = (lower+upper)//2\n",
    "                if data[mid] == query:\n",
    "                    print(f'{query} is at {mid}')\n",
    "                    break\n"
   ]
  },
  {
   "cell_type": "code",
   "execution_count": 29,
   "metadata": {},
   "outputs": [
    {
     "name": "stdout",
     "output_type": "stream",
     "text": [
      "1 is at 0\n"
     ]
    }
   ],
   "source": [
    "search([1, 2, 5, 7, 11, 13, 17, 19, 23], 1)\n"
   ]
  }
 ],
 "metadata": {
  "kernelspec": {
   "display_name": "Python 3",
   "language": "python",
   "name": "python3"
  },
  "language_info": {
   "codemirror_mode": {
    "name": "ipython",
    "version": 3
   },
   "file_extension": ".py",
   "mimetype": "text/x-python",
   "name": "python",
   "nbconvert_exporter": "python",
   "pygments_lexer": "ipython3",
   "version": "3.10.9"
  },
  "orig_nbformat": 4,
  "vscode": {
   "interpreter": {
    "hash": "e7370f93d1d0cde622a1f8e1c04877d8463912d04d973331ad4851f04de6915a"
   }
  }
 },
 "nbformat": 4,
 "nbformat_minor": 2
}
